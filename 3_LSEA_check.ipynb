{
 "cells": [
  {
   "cell_type": "markdown",
   "id": "66741e7b",
   "metadata": {},
   "source": [
    "## Main code"
   ]
  },
  {
   "cell_type": "code",
   "execution_count": 1,
   "id": "3acf78b8",
   "metadata": {
    "scrolled": true
   },
   "outputs": [
    {
     "name": "stderr",
     "output_type": "stream",
     "text": [
      "100%|█████████████████████████████████████████████████████████████████████████████████████████| 50/50 [00:00<00:00, 339.56it/s]"
     ]
    },
    {
     "name": "stdout",
     "output_type": "stream",
     "text": [
      "      Причинный набор найден  Причинный набор НЕ найден\n",
      "k=15                      50                          0\n",
      "k=0                        3                         47\n",
      "Pval Difference (chi2): 3.066561764717545e-20\n"
     ]
    },
    {
     "name": "stderr",
     "output_type": "stream",
     "text": [
      "\n"
     ]
    }
   ],
   "source": [
    "import subprocess\n",
    "import os\n",
    "from tqdm import tqdm\n",
    "import pandas as pd\n",
    "from numpy import genfromtxt\n",
    "import scipy.stats as ss\n",
    "\n",
    "with open('data/pathways.csv') as in_f:\n",
    "    cur_gene_set = in_f.readlines()[0]\n",
    "\n",
    "counter = {15:{True:0, False:0},\n",
    "           0:{True:0, False:0},}\n",
    "lengthes = {15:[],\n",
    "         0:[]}\n",
    "\n",
    "# variables\n",
    "for i in tqdm(range(0, 50)):\n",
    "    for k in [0, 15]:\n",
    "        # best constants\n",
    "        K=30\n",
    "        m_beta=0.5\n",
    "        sd_beta=0.1\n",
    "        gen_var=0.5\n",
    "        h2s=0.5\n",
    "\n",
    "        phenos_id = f'ph_{k}_{i}'\n",
    "        sim_id=f\"K{K}_m{m_beta}_sd{sd_beta}_gv{gen_var}_h2s{h2s}\"\n",
    "        out_dir = f\"data/lsea_{phenos_id}_{sim_id}\"\n",
    "        pval = 0.00000000729730\n",
    "        result_file = os.path.join(out_dir, f\"universe_result_{pval}.tsv\")\n",
    "        try:\n",
    "            data = pd.read_csv(result_file, sep='\\t')\n",
    "        except FileNotFoundError:\n",
    "            print(f'El problemo: {result_file}')\n",
    "            continue\n",
    "        lengthes[k].append(data.shape[0])\n",
    "        counter[k][cur_gene_set in set(data.Gene_set)]+=1\n",
    "contigency_data = pd.DataFrame(counter).rename(columns={0: 'k=0', 15: 'k=15'}, index={False: 'Причинный набор НЕ найден', True: 'Причинный набор найден'}).T  \n",
    "print(contigency_data)\n",
    "print(f'Pval Difference (chi2): {ss.chi2_contingency(contigency_data.to_numpy())[1]}')"
   ]
  },
  {
   "cell_type": "markdown",
   "id": "ef34a259",
   "metadata": {},
   "source": [
    "## Modifications"
   ]
  },
  {
   "cell_type": "code",
   "execution_count": 2,
   "id": "acb7f745",
   "metadata": {},
   "outputs": [
    {
     "name": "stderr",
     "output_type": "stream",
     "text": [
      "/tmp/ipykernel_14646/1321446209.py:8: UserWarning: Ignoring `palette` because no `hue` variable has been assigned.\n",
      "  sns.histplot(lengthes[15], label='K=30, k=15', palette='muted', alpha=0.7, binwidth=1, edgecolor='black')\n",
      "/tmp/ipykernel_14646/1321446209.py:9: UserWarning: Ignoring `palette` because no `hue` variable has been assigned.\n",
      "  sns.histplot(lengthes[0], label='K=30, k=0', palette='muted',alpha=0.7, binwidth=1, edgecolor='black')\n"
     ]
    },
    {
     "data": {
      "image/png": "[encoded data removed]",
      "text/plain": [
       "<Figure size 720x576 with 1 Axes>"
      ]
     },
     "metadata": {
      "needs_background": "light"
     },
     "output_type": "display_data"
    }
   ],
   "source": [
    "import seaborn as sns\n",
    "import matplotlib.pyplot as plt\n",
    "\n",
    "sns.set()\n",
    "plt.figure(figsize=(10,8))\n",
    "sns.set_theme(style=\"whitegrid\")\n",
    "\n",
    "sns.histplot(lengthes[15], label='K=30, k=15', palette='muted', alpha=0.7, binwidth=1, edgecolor='black')\n",
    "sns.histplot(lengthes[0], label='K=30, k=0', palette='muted',alpha=0.7, binwidth=1, edgecolor='black')\n",
    "plt.legend()\n",
    "plt.xlabel(\"Количество значимых наборов генов, выявленных LSEA\")\n",
    "plt.ylabel(\"Количество симуляций\")\n",
    "plt.show()"
   ]
  },
  {
   "cell_type": "code",
   "execution_count": 3,
   "id": "b64def20",
   "metadata": {},
   "outputs": [
    {
     "name": "stdout",
     "output_type": "stream",
     "text": [
      "Pval Difference (chi2): 0.41469388994665224\n"
     ]
    }
   ],
   "source": [
    "import numpy as np\n",
    "import numpy as np\n",
    "\n",
    "def compute_histogram_array(data, x_min, x_max):\n",
    "    histogram, bin_edges = np.histogram(data, bins=np.arange(x_min, x_max))\n",
    "    return histogram\n",
    "\n",
    "# Example usage:\n",
    "# data = np.array([1, 2, 2, 4, 5, 15, 20, 25, 30, 31, 35])\n",
    "# histogram_array = compute_histogram_array(data)\n",
    "# print(histogram_array)\n",
    "\n",
    "\n",
    "k15 = np.array(lengthes[15])\n",
    "k0 = np.array(lengthes[0])\n",
    "\n",
    "k_min = min(k15.min(), k0.min())\n",
    "k_max = max(k15.max(), k0.max())+2\n",
    "hist0_ = compute_histogram_array(k0, k_min, k_max)\n",
    "hist15_ = compute_histogram_array(k15, k_min, k_max)\n",
    "\n",
    "hist0, hist15 = [], []\n",
    "\n",
    "for x0, x15 in zip(hist0_, hist15_):\n",
    "    if x0 == 0 and x15 == 0:\n",
    "        continue\n",
    "    hist0.append(x0)\n",
    "    hist15.append(x15)\n",
    "\n",
    "hists = np.array([list(hist15), list(hist0)])\n",
    "print(f'Pval Difference (chi2): {ss.chi2_contingency(hists)[1]}')"
   ]
  }
 ],
 "metadata": {
  "kernelspec": {
   "display_name": "Python 3 (ipykernel)",
   "language": "python",
   "name": "python3"
  },
  "language_info": {
   "codemirror_mode": {
    "name": "ipython",
    "version": 3
   },
   "file_extension": ".py",
   "mimetype": "text/x-python",
   "name": "python",
   "nbconvert_exporter": "python",
   "pygments_lexer": "ipython3",
   "version": "3.9.12"
  }
 },
 "nbformat": 4,
 "nbformat_minor": 5
}
