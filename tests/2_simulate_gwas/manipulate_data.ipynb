{
 "cells": [
  {
   "cell_type": "markdown",
   "id": "d9ef30ad",
   "metadata": {},
   "source": [
    "## Manual to reproduce gwas"
   ]
  },
  {
   "cell_type": "markdown",
   "id": "9513e1f0",
   "metadata": {},
   "source": [
    "First we unzipped files, e.g.:\n",
    "```\n",
    "gunzip -c $FILE > $FILE_TO\n",
    "cut -f 1,6,9,10,11,12 -d $'\\t'\n",
    "```\n",
    "\n",
    "We have now:"
   ]
  },
  {
   "cell_type": "code",
   "execution_count": 43,
   "id": "3ea584fe",
   "metadata": {},
   "outputs": [
    {
     "name": "stdout",
     "output_type": "stream",
     "text": [
      "-rw-rw-r-- 1 achangalidi achangalidi 1.7G Sep  3 23:33 data/I12.gwas.imputed_v3.both_sexes.tsv\r\n",
      "-rw-rw-r-- 1 achangalidi achangalidi 1.7G Sep  3 23:31 data/O13.gwas.imputed_v3.both_sexes.tsv\r\n",
      "-rw-rw-r-- 1 achangalidi achangalidi 1.7G Sep  3 23:32 data/O14.gwas.imputed_v3.both_sexes.tsv\r\n"
     ]
    }
   ],
   "source": [
    "! ls -lh data/*sexes.tsv"
   ]
  },
  {
   "cell_type": "markdown",
   "id": "b02ee274",
   "metadata": {},
   "source": [
    "Trimmed files, to make them plink-like:\n",
    "\n",
    "```\n",
    "./to_plink.py data/I12.gwas.imputed_v3.both_sexes.qassoc\n",
    "./to_plink.py data/O13.gwas.imputed_v3.both_sexes.qassoc\n",
    "./to_plink.py data/O14.gwas.imputed_v3.both_sexes.qassoc\n",
    "```"
   ]
  },
  {
   "cell_type": "code",
   "execution_count": 48,
   "id": "ee6c36ca",
   "metadata": {},
   "outputs": [
    {
     "name": "stdout",
     "output_type": "stream",
     "text": [
      "-rw-rw-r-- 1 achangalidi achangalidi 956M Sep  5 22:33 data/I12.gwas.imputed_v3.both_sexes.qassoc\r\n",
      "-rw-rw-r-- 1 achangalidi achangalidi 956M Sep  5 22:36 data/O13.gwas.imputed_v3.both_sexes.qassoc\r\n",
      "-rw-rw-r-- 1 achangalidi achangalidi 957M Sep  5 22:38 data/O14.gwas.imputed_v3.both_sexes.qassoc\r\n"
     ]
    }
   ],
   "source": [
    "! ls -lh data/*sexes.qassoc"
   ]
  },
  {
   "cell_type": "markdown",
   "id": "ce11b081",
   "metadata": {},
   "source": [
    "Run drawing:\n",
    "```\n",
    "../1000genomes/pipeline_utils/draw_pvals.R I12 data/I12.gwas.imputed_v3.both_sexes.qassoc TRUE ../1000genomes/data3/PATTERN_filt_sim\n",
    "\n",
    "../1000genomes/pipeline_utils/draw_pvals.R O13 data/O13.gwas.imputed_v3.both_sexes.qassoc TRUE ../1000genomes/data3/PATTERN_filt_sim\n",
    "\n",
    "../1000genomes/pipeline_utils/draw_pvals.R O14 data/O14.gwas.imputed_v3.both_sexes.qassoc TRUE ../1000genomes/data3/PATTERN_filt_sim\n",
    "```"
   ]
  }
 ],
 "metadata": {
  "kernelspec": {
   "display_name": "Python 3 (ipykernel)",
   "language": "python",
   "name": "python3"
  },
  "language_info": {
   "codemirror_mode": {
    "name": "ipython",
    "version": 3
   },
   "file_extension": ".py",
   "mimetype": "text/x-python",
   "name": "python",
   "nbconvert_exporter": "python",
   "pygments_lexer": "ipython3",
   "version": "3.9.12"
  }
 },
 "nbformat": 4,
 "nbformat_minor": 5
}
